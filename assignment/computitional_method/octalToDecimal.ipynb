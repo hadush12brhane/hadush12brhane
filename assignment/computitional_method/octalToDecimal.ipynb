{
 "cells": [
  {
   "cell_type": "code",
   "execution_count": null,
   "id": "193a11b7",
   "metadata": {},
   "outputs": [],
   "source": [
    " octal_to Decimal(n):\n",
    "\n"
   ]
  },
  {
   "cell_type": "code",
   "execution_count": null,
   "id": "850ad7dc",
   "metadata": {},
   "outputs": [],
   "source": []
  },
  {
   "cell_type": "code",
   "execution_count": null,
   "id": "1692621f",
   "metadata": {},
   "outputs": [],
   "source": [
    "def \n"
   ]
  },
  {
   "cell_type": "markdown",
   "id": "6cd26038",
   "metadata": {},
   "source": []
  }
 ],
 "metadata": {
  "kernelspec": {
   "display_name": "Python 3 (ipykernel)",
   "language": "python",
   "name": "python3"
  },
  "language_info": {
   "name": "python",
   "version": "3.11.5"
  }
 },
 "nbformat": 4,
 "nbformat_minor": 5
}
